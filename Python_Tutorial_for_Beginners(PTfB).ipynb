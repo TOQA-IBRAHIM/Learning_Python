{
  "nbformat": 4,
  "nbformat_minor": 0,
  "metadata": {
    "colab": {
      "provenance": [],
      "collapsed_sections": [
        "in_XqwH2Y6kG",
        "aNOnjapueen1",
        "LnH6vG7cCG7f",
        "GlOBuAlCCJ4p",
        "yv_znFVapnYu",
        "2YXFhlcbCc68",
        "-DazW1AOCfUn"
      ]
    },
    "kernelspec": {
      "name": "python3",
      "display_name": "Python 3"
    },
    "language_info": {
      "name": "python"
    }
  },
  "cells": [
    {
      "cell_type": "markdown",
      "source": [
        " # Introduction to Python\n",
        "\n",
        "\n",
        "\n"
      ],
      "metadata": {
        "id": "e-KBqQSOUPHr"
      }
    },
    {
      "cell_type": "markdown",
      "source": [
        "✅ Python Basics\n",
        "\n",
        "  Learn String and Number Data Types\n",
        "\n",
        " Use and Declare Variables\n",
        "\n",
        " Create and Use Functions\n",
        "\n",
        " Understand Scope (Local vs Global)\n",
        "\n",
        "\n",
        "\n",
        " ✅ User Interaction & Control Flow\n",
        "\n",
        " Accept User Input\n",
        "\n",
        " Write Conditional Statements (if / else)\n",
        "\n",
        " Use Boolean Data Types\n",
        "\n",
        " Handle Errors with Try / Except\n",
        "\n",
        " Work with While Loops\n",
        "\n",
        " Use Lists and For Loops\n",
        "\n",
        "\n",
        "\n",
        "\n",
        "\n",
        "✅ Data Structures\n",
        "\n",
        " Add Comments in Python Code\n",
        "\n",
        " Learn and Use Sets\n",
        "\n",
        " Use Built-in Functions\n",
        "\n",
        " Work with Dictionaries\n",
        "\n",
        "✅ Modular\n",
        "\n",
        " Create and Use Python Modules\n",
        "\n",
        "\n",
        "✅ Working with External Tools\n",
        "\n",
        " Understand Packages, PyPI, and pip\n",
        "\n",
        " Automate a Task Using Spreadsheets in Python\n",
        "\n",
        "✅ Intermediate Python\n",
        "\n",
        " Learn Object-Oriented Programming (Classes and Objects)\n"
      ],
      "metadata": {
        "id": "pIXO_FaMYtYg"
      }
    },
    {
      "cell_type": "markdown",
      "source": [
        "#  1. ✅ Python Basics\n",
        "\n",
        "\n"
      ],
      "metadata": {
        "id": "in_XqwH2Y6kG"
      }
    },
    {
      "cell_type": "code",
      "execution_count": null,
      "metadata": {
        "colab": {
          "base_uri": "https://localhost:8080/"
        },
        "id": "GfloKUvNEKLA",
        "outputId": "4ce0dcda-1286-4b74-cd4f-70f334ff16c3"
      },
      "outputs": [
        {
          "output_type": "stream",
          "name": "stdout",
          "text": [
            "Python 3.12.11\n"
          ]
        }
      ],
      "source": [
        "!python --version"
      ]
    },
    {
      "cell_type": "code",
      "source": [
        "print('Toqa Ibrahim Alrthoom') # simple print syntax"
      ],
      "metadata": {
        "colab": {
          "base_uri": "https://localhost:8080/"
        },
        "id": "WoHPtmQtReNV",
        "outputId": "2374246c-c85a-467e-99c6-a04c4b63ed4e"
      },
      "execution_count": null,
      "outputs": [
        {
          "output_type": "stream",
          "name": "stdout",
          "text": [
            "Toqa Ibrahim Alrthoom\n"
          ]
        }
      ]
    },
    {
      "cell_type": "markdown",
      "source": [
        "**Data Types**\n",
        "\n",
        "1.   Floating point numbers\n",
        "\n",
        "         ex : 3.5\n",
        "2.   Integer\n",
        "\n",
        "          ex :45\n",
        "3.   Strings\n",
        "\n",
        "           ex :\" HI \"\n",
        "\n",
        "\n",
        "\n",
        "\n"
      ],
      "metadata": {
        "id": "j_7AfnWAS9ah"
      }
    },
    {
      "cell_type": "code",
      "source": [
        "print (\"How many seconds in a day ? \")\n",
        "print(\"There are \", 24*60*60 ,'seconds')"
      ],
      "metadata": {
        "colab": {
          "base_uri": "https://localhost:8080/"
        },
        "id": "zICRP_pMS6WS",
        "outputId": "2f53f1b8-88c1-4632-85ad-d17a25d93af9"
      },
      "execution_count": null,
      "outputs": [
        {
          "output_type": "stream",
          "name": "stdout",
          "text": [
            "How many seconds in a day ? \n",
            "There are  86400 seconds\n"
          ]
        }
      ]
    },
    {
      "cell_type": "code",
      "source": [
        "d1=24\n",
        "l=' hours .'\n",
        "def days_to_units(ND):\n",
        "  print(f'{ND} days are {ND*d1}{l}')\n",
        "days_to_units(20)\n",
        "days_to_units(24)"
      ],
      "metadata": {
        "colab": {
          "base_uri": "https://localhost:8080/"
        },
        "id": "XS5ZRPxIBt4i",
        "outputId": "8d1648c1-955d-4e07-be53-fdd5bac1e66c"
      },
      "execution_count": null,
      "outputs": [
        {
          "output_type": "stream",
          "name": "stdout",
          "text": [
            "20 days are 480 hours .\n",
            "24 days are 576 hours .\n"
          ]
        }
      ]
    },
    {
      "cell_type": "markdown",
      "source": [
        "**scope**: A variable is only available from inside the region it is created in.\n",
        "\n",
        "**Global scope**: Variable available from within any scope.\n",
        "\n",
        " **Local scope**: Variables created inside function can only be used inside that function.\n",
        "\n",
        "\n",
        "\n",
        "     ex :\n",
        "\n",
        "     x=3\n",
        "     function A():\n",
        "        x=2\n",
        "        print(x)\n",
        "     function B():\n",
        "       print(x)\n",
        "     A() # will print 2 (local scope only inside A)\n",
        "     B() # will print 3 (global scope)\n"
      ],
      "metadata": {
        "id": "0uk0bG08DNTe"
      }
    },
    {
      "cell_type": "code",
      "source": [
        "word='Python'\n",
        "def global_fun():\n",
        "  print(f'Inside global scope : \\n The Word is \\'{word}\\'\\n')\n",
        "def local_fun():\n",
        "  word='SQL'\n",
        "  num=33 # you can use this number in this function only\n",
        "  #print(f'The number is \\'{num}\\'') -if you want to try-\n",
        "  print(f'Inside local scope : \\n The word is \\'{word}\\'')\n",
        "global_fun()\n",
        "local_fun()"
      ],
      "metadata": {
        "id": "EJVRvgXLE-EU",
        "colab": {
          "base_uri": "https://localhost:8080/"
        },
        "outputId": "02ceea48-b0ca-41ec-dde4-95d5bdce0e6f"
      },
      "execution_count": null,
      "outputs": [
        {
          "output_type": "stream",
          "name": "stdout",
          "text": [
            "Inside global scope : \n",
            " The Word is 'Python'\n",
            "\n",
            "Inside local scope : \n",
            " The word is 'SQL'\n"
          ]
        }
      ]
    },
    {
      "cell_type": "markdown",
      "source": [
        "# 2. ✅ User Interaction & Control Flow"
      ],
      "metadata": {
        "id": "aNOnjapueen1"
      }
    },
    {
      "cell_type": "code",
      "source": [
        "pineapple_price_per_one=1.5\n",
        "def pineapple_price(pineapple_num):\n",
        "  print(f'\\n The price of {pineapple_num} is {pineapple_price_per_one* pineapple_num} $ ')\n",
        "user_input=int(input('Enter the number of pineapples : '))\n",
        "pineapple_price(user_input)"
      ],
      "metadata": {
        "colab": {
          "base_uri": "https://localhost:8080/"
        },
        "id": "zJaEunhBYic4",
        "outputId": "630c27a8-663e-4d12-e9a5-5081cd9d86e9"
      },
      "execution_count": null,
      "outputs": [
        {
          "output_type": "stream",
          "name": "stdout",
          "text": [
            "Enter the number of pineapples : 5\n",
            "\n",
            " The price of 5 is 7.5 $ \n"
          ]
        }
      ]
    },
    {
      "cell_type": "code",
      "source": [
        "pineapple_price_per_one=1.5\n",
        "def pineapple_price(pineapple_num): # function with return values\n",
        "  return f'\\n The price of {pineapple_num} is {pineapple_price_per_one* pineapple_num} $ '\n",
        "user_input=int(input('Enter the number of pineapples : '))\n",
        "output=pineapple_price(user_input)\n",
        "print(f'{output}')"
      ],
      "metadata": {
        "colab": {
          "base_uri": "https://localhost:8080/"
        },
        "id": "zDsZioGnnpYP",
        "outputId": "4cd59aa7-9f91-41c7-ebf6-e682c7eb3964"
      },
      "execution_count": null,
      "outputs": [
        {
          "output_type": "stream",
          "name": "stdout",
          "text": [
            "Enter the number of pineapples : 10\n",
            "\n",
            " The price of 10 is 15.0 $ \n"
          ]
        }
      ]
    },
    {
      "cell_type": "code",
      "source": [
        "def pineapple_price(pineapple_num): # using if to check that the value are greater than 0\n",
        "  condition=pineapple_num>0  #print(condition) it will prints true or fales (if it's true then the calculation will happen ,if it's false it won't)\n",
        "  print(type(condition))\n",
        "  if pineapple_num >0:\n",
        "    return f'\\n The price of {pineapple_num} is {pineapple_price_per_one* pineapple_num} $ '\n",
        "  elif  pineapple_num==0:\n",
        "    return 'you entered zero for the number of pineapples'\n",
        "  else:\n",
        "    return 'you entered a nagitive value '\n",
        "user_input = input(\"Enter the number of pineapples: \")\n",
        "\n",
        "user_input = int(user_input)\n",
        "output = pineapple_price(user_input)\n",
        "print(f\"{output}\")"
      ],
      "metadata": {
        "id": "HlFcjT6hpbt6",
        "colab": {
          "base_uri": "https://localhost:8080/"
        },
        "outputId": "84592439-614f-4855-af07-032966f761a3"
      },
      "execution_count": null,
      "outputs": [
        {
          "output_type": "stream",
          "name": "stdout",
          "text": [
            "Enter the number of pineapples: -10\n",
            "<class 'bool'>\n",
            "you entered a nagitive value \n"
          ]
        }
      ]
    },
    {
      "cell_type": "code",
      "source": [
        "def pineapple_price(pineapple_num): # using if to check that the value are greater than 0\n",
        "  condition=pineapple_num>0  #print(condition) it will prints true or fales (if it's true then the calculation will happen ,if it's false it won't)\n",
        "  print(type(condition))\n",
        "  if pineapple_num >0:\n",
        "    return f'\\n The price of {pineapple_num} is {pineapple_price_per_one* pineapple_num} $ '\n",
        "  elif  pineapple_num==0:\n",
        "    return 'you entered zero for the number of pineapples'\n",
        "\n",
        "user_input = input(\"Enter the number of pineapples: \")\n",
        "\n",
        "# you can put it in a function to make the code clean\n",
        "if user_input.isdigit():\n",
        "    user_input = int(user_input)\n",
        "    output = pineapple_price(user_input)\n",
        "    print(f\"{output}\")\n",
        "else:\n",
        "    print(\"Your input is not a number\")# no need for the negative check\n"
      ],
      "metadata": {
        "id": "bNiOuamrnnEN",
        "colab": {
          "base_uri": "https://localhost:8080/"
        },
        "outputId": "ba23857b-5875-4266-8f33-7069f13ff9bb"
      },
      "execution_count": null,
      "outputs": [
        {
          "output_type": "stream",
          "name": "stdout",
          "text": [
            "Enter the number of pineapples: t\n",
            "Your input is not a number\n"
          ]
        }
      ]
    },
    {
      "cell_type": "markdown",
      "source": [
        " we can use **try–except**.\n",
        "\n",
        "\n",
        "*   In the try block, we attempt to convert the user input into an integer directly.\n",
        "If the input is valid (like \"5\"), the conversion works, and we can pass it to\n",
        "pineapple_price.\n",
        "\n",
        "*   If the input is invalid (text), Python raises a ValueError.\n",
        "The except block will catch that ValueError and handle it , by printing \"Your input is not a number\".\n",
        "\n",
        "\n"
      ],
      "metadata": {
        "id": "tqorpZTf5iDi"
      }
    },
    {
      "cell_type": "code",
      "source": [
        "import random\n",
        "\n",
        "secret = random.randint(1, 10)  # computer Chooses a number between 1 and 10\n",
        "attempts = 0\n",
        "\n",
        "while True:# using while for a gissing game\n",
        "    try:\n",
        "        guess = int(input(\"Guess a number between 1 and 10: \"))\n",
        "        attempts += 1\n",
        "\n",
        "        if guess == secret:\n",
        "            print(f\"🎉 Correct! You guessed it in {attempts} tries.\")\n",
        "            break\n",
        "        elif guess < secret:\n",
        "            print(\"Too low! Try again.\\n\")\n",
        "        else:\n",
        "            print(\"Too high! Try again.\\n\")\n",
        "    except ValueError:\n",
        "        print(\"Invalid input. Please enter a number.\\n\")\n"
      ],
      "metadata": {
        "colab": {
          "base_uri": "https://localhost:8080/"
        },
        "id": "eOe-NAJm6X1t",
        "outputId": "04d5d647-3f91-4a5b-85f7-3d050b436f01"
      },
      "execution_count": null,
      "outputs": [
        {
          "output_type": "stream",
          "name": "stdout",
          "text": [
            "Guess a number between 1 and 10: A\n",
            "Invalid input. Please enter a number.\n",
            "\n",
            "Guess a number between 1 and 10: 4\n",
            "Too high! Try again.\n",
            "\n",
            "Guess a number between 1 and 10: 1\n",
            "🎉 Correct! You guessed it in 2 tries.\n"
          ]
        }
      ]
    },
    {
      "cell_type": "code",
      "source": [
        "def calculate_square(n):\n",
        "    return n ** 2\n",
        "\n",
        "user_input = input(\"Enter numbers separated by spaces or commas: \")\n",
        "\n",
        "# Replace commas with spaces, then split by spaces\n",
        "numbers_str = user_input.replace(\",\", \" \").split()\n",
        "numbers = []\n",
        "for num_str in numbers_str:\n",
        "    try:\n",
        "        num = float(num_str)\n",
        "        if num < 0:\n",
        "            print(f\"{num} is negative, skipping.\")\n",
        "        else:\n",
        "            numbers.append(num)\n",
        "    except ValueError:\n",
        "        print(f\"'{num_str}' is not a valid number, skipping.\")\n",
        "for n in numbers:\n",
        "    result = calculate_square(n)\n",
        "    print(f\"Number: {n}, Square: {result}\")\n"
      ],
      "metadata": {
        "colab": {
          "base_uri": "https://localhost:8080/"
        },
        "id": "03jBDxuL6X4d",
        "outputId": "97386fcf-d6f6-4d4d-f3b1-43b6ea135ac1"
      },
      "execution_count": null,
      "outputs": [
        {
          "output_type": "stream",
          "name": "stdout",
          "text": [
            "Enter numbers separated by spaces or commas: A,-5,3,2,10\n",
            "'A' is not a valid number, skipping.\n",
            "-5.0 is negative, skipping.\n",
            "Number: 3.0, Square: 9.0\n",
            "Number: 2.0, Square: 4.0\n",
            "Number: 10.0, Square: 100.0\n"
          ]
        }
      ]
    },
    {
      "cell_type": "code",
      "source": [
        "days_of_week = [\"Monday\", \"Tuesday\", \"Wednesday\", \"Thursday\", \"Friday\", \"Saturday\"]\n",
        "print(\"Original list:\", days_of_week)\n",
        "print(\"Access item 2 :\", days_of_week[1])  # Tuesday\n",
        "print(\"Access item 5 :\", days_of_week[4])  # Friday\n",
        "days_of_week.extend([\"Holiday\",\"Sunday\" ])\n",
        "print(\"List after adding items:\", days_of_week)\n",
        "days_of_week.remove(\"Holiday\")\n",
        "print(\"List after removing 'Holiday':\", days_of_week)\n",
        "days_of_week[0] = days_of_week[0].upper()\n",
        "days_of_week[3] = days_of_week[3] + \" Day\"\n",
        "print(\"List after modifications:\", days_of_week)\n"
      ],
      "metadata": {
        "colab": {
          "base_uri": "https://localhost:8080/"
        },
        "id": "FiYJ4XXf6X75",
        "outputId": "3751aef2-c4ea-4578-e2ef-7807746e4de3"
      },
      "execution_count": null,
      "outputs": [
        {
          "output_type": "stream",
          "name": "stdout",
          "text": [
            "Original list: ['Monday', 'Tuesday', 'Wednesday', 'Thursday', 'Friday', 'Saturday']\n",
            "Access item 2 : Tuesday\n",
            "Access item 5 : Friday\n",
            "List after adding items: ['Monday', 'Tuesday', 'Wednesday', 'Thursday', 'Friday', 'Saturday', 'Holiday', 'Sunday']\n",
            "List after removing 'Holiday': ['Monday', 'Tuesday', 'Wednesday', 'Thursday', 'Friday', 'Saturday', 'Sunday']\n",
            "List after modifications: ['MONDAY', 'Tuesday', 'Wednesday', 'Thursday Day', 'Friday', 'Saturday', 'Sunday']\n"
          ]
        }
      ]
    },
    {
      "cell_type": "markdown",
      "source": [
        "# 3. ✅ Data Structures\n"
      ],
      "metadata": {
        "id": "LnH6vG7cCG7f"
      }
    },
    {
      "cell_type": "code",
      "source": [
        "# one line comment\n",
        "\n",
        "\"\"\"\n",
        "Multi line comment\n",
        "\n",
        "\"\"\""
      ],
      "metadata": {
        "colab": {
          "base_uri": "https://localhost:8080/",
          "height": 36
        },
        "id": "DvVTRi11SAra",
        "outputId": "6544ad16-e9f2-44c6-ab43-b6cdcd4a4344"
      },
      "execution_count": null,
      "outputs": [
        {
          "output_type": "execute_result",
          "data": {
            "text/plain": [
              "'\\nMulti line comment\\n'"
            ],
            "application/vnd.google.colaboratory.intrinsic+json": {
              "type": "string"
            }
          },
          "metadata": {},
          "execution_count": 44
        }
      ]
    },
    {
      "cell_type": "code",
      "source": [
        "def calculate_square(n):\n",
        "    return n ** 2\n",
        "\n",
        "user_input = input(\"Enter numbers separated by spaces or commas: \")\n",
        "\n",
        "# Replace commas with spaces, then split by spaces\n",
        "numbers_str = user_input.replace(\",\", \" \").split()\n",
        "numbers_set = set(numbers_str)\n",
        "print(type(numbers_set))\n",
        "numbers = []\n",
        "for num_str in numbers_set:\n",
        "    try:\n",
        "        num = float(num_str)\n",
        "        if num < 0:\n",
        "            print(f\"{num} is negative, skipping.\")\n",
        "        else:\n",
        "            numbers.append(num)\n",
        "    except ValueError:\n",
        "        print(f\"'{num_str}' is not a valid number, skipping.\")\n",
        "for n in numbers:\n",
        "    result = calculate_square(n)\n",
        "    print(f\"Number: {n}, Square: {result}\")\n"
      ],
      "metadata": {
        "colab": {
          "base_uri": "https://localhost:8080/"
        },
        "id": "cJYsPkFdS39v",
        "outputId": "1b27329c-7d1f-45d0-c4d1-dc41b6f68194"
      },
      "execution_count": null,
      "outputs": [
        {
          "output_type": "stream",
          "name": "stdout",
          "text": [
            "Enter numbers separated by spaces or commas: 10,1,10,20,7\n",
            "<class 'set'>\n",
            "Number: 20.0, Square: 400.0\n",
            "Number: 7.0, Square: 49.0\n",
            "Number: 1.0, Square: 1.0\n",
            "Number: 10.0, Square: 100.0\n"
          ]
        }
      ]
    },
    {
      "cell_type": "code",
      "source": [
        "#set\n",
        "fruits = {\"apple\", \"banana\", \"orange\", \"mango\"}\n",
        "print(\"Original set:\", fruits)\n",
        "print(\"Accessing items in the set:\")\n",
        "for fruit in fruits:\n",
        "    print(fruit)\n",
        "fruits.add(\"pineapple\")\n",
        "print(\"After adding 'pineapple':\", fruits)\n",
        "fruits.remove(\"banana\")\n",
        "print(\"After removing 'banana':\", fruits)\n"
      ],
      "metadata": {
        "colab": {
          "base_uri": "https://localhost:8080/"
        },
        "id": "uEGYff_sS4Aq",
        "outputId": "0a63175d-84b4-47f0-a33d-b4eed4546faa"
      },
      "execution_count": null,
      "outputs": [
        {
          "output_type": "stream",
          "name": "stdout",
          "text": [
            "Original set: {'mango', 'apple', 'orange', 'banana'}\n",
            "Accessing items in the set:\n",
            "mango\n",
            "apple\n",
            "orange\n",
            "banana\n",
            "After adding 'pineapple': {'mango', 'apple', 'banana', 'orange', 'pineapple'}\n",
            "After removing 'banana': {'mango', 'apple', 'orange', 'pineapple'}\n"
          ]
        }
      ]
    },
    {
      "cell_type": "code",
      "source": [
        "student = {\n",
        "    \"name\": \"Sarah\",\n",
        "    \"age\": 21,\n",
        "    \"major\": \"Artificial Intelligence\"\n",
        "}\n",
        "print( student)\n",
        "print(\"\\nAccessing dictionary items:\")\n",
        "for key, value in student.items():\n",
        "    print(key, \":\", value)\n",
        "student[\"GPA\"] = 3.9\n",
        "print(\"\\nAfter adding GPA:\", student)\n",
        "removed_value = student.pop(\"age\")\n",
        "print(\"\\nAfter removing 'age':\", student)\n",
        "print(\"Removed value:\", removed_value)\n",
        "student[\"major\"] = \"Data Science\"\n",
        "print(\"\\nAfter changing 'major':\", student)\n"
      ],
      "metadata": {
        "id": "mbIlOR4VS4DZ",
        "colab": {
          "base_uri": "https://localhost:8080/"
        },
        "outputId": "25088f11-1ad5-4fb7-8f14-ca5a0fce1fb6"
      },
      "execution_count": null,
      "outputs": [
        {
          "output_type": "stream",
          "name": "stdout",
          "text": [
            "{'name': 'Sarah', 'age': 21, 'major': 'Artificial Intelligence'}\n",
            "\n",
            "Accessing dictionary items:\n",
            "name : Sarah\n",
            "age : 21\n",
            "major : Artificial Intelligence\n",
            "\n",
            "After adding GPA: {'name': 'Sarah', 'age': 21, 'major': 'Artificial Intelligence', 'GPA': 3.9}\n",
            "\n",
            "After removing 'age': {'name': 'Sarah', 'major': 'Artificial Intelligence', 'GPA': 3.9}\n",
            "Removed value: 21\n",
            "\n",
            "After changing 'major': {'name': 'Sarah', 'major': 'Data Science', 'GPA': 3.9}\n"
          ]
        }
      ]
    },
    {
      "cell_type": "code",
      "source": [
        "def currency_converter(amount, target_currency):\n",
        "    conversion_rates = {\n",
        "        \"usd\": 1.41,\n",
        "        \"eur\": 1.34,\n",
        "        \"jpy\": 210.50\n",
        "    }\n",
        "\n",
        "    if target_currency in conversion_rates:\n",
        "        converted = amount * conversion_rates[target_currency]\n",
        "        print(f\"{amount} JOD = {converted:.2f} {target_currency.upper()}\")\n",
        "    else:\n",
        "        print(\"Error: Invalid currency. Please choose usd, eur, or jpy.\")\n",
        "\n",
        "user_input = input(\"Enter amount and currency (e.g., '20 usd'): \")\n",
        "amount_str, currency = user_input.split()\n",
        "amount = float(amount_str)\n",
        "currency_converter(amount, currency.lower())\n"
      ],
      "metadata": {
        "id": "8t8fHGedS4Gk",
        "colab": {
          "base_uri": "https://localhost:8080/"
        },
        "outputId": "a8dc1831-7648-4fd7-c696-b0c9d63b4526"
      },
      "execution_count": null,
      "outputs": [
        {
          "output_type": "stream",
          "name": "stdout",
          "text": [
            "Enter amount and currency (e.g., '20 usd'): 50 eur\n",
            "50.0 JOD = 67.00 EUR\n"
          ]
        }
      ]
    },
    {
      "cell_type": "markdown",
      "source": [
        "# 4. ✅ Modular\n"
      ],
      "metadata": {
        "id": "GlOBuAlCCJ4p"
      }
    },
    {
      "cell_type": "code",
      "source": [
        "\"\"\"\n",
        "Python Modules\n",
        "\n",
        "A module is a Python file that contains related code, such as functions, classes, or variables.\n",
        "It helps organize code into logical parts.\n",
        "\n",
        "Suppose you have a file named helper.py with some functions:\n",
        "Example helper.py content:\n",
        "def validate():\n",
        "    print(\"Validate function\")\n",
        "\n",
        "You can import the whole module using:\n",
        "import helper\n",
        "Use a function or variable with the module name prefix:\n",
        "helper.validate()\n",
        "\n",
        "from helper import validate\n",
        "Now you can use these functions directly without the module name:\n",
        "validate()\n",
        "\n",
        "Python includes many useful built-in modules you can import, such as:\n",
        "import math        # For mathematical functions like sqrt, sin, etc.\n",
        "import datetime    # For managing dates and times\n",
        "import os          # For interacting with the operating system\n",
        "import logging     # For logging messages for debugging and tracking\n",
        "\n",
        "\"\"\"\n"
      ],
      "metadata": {
        "id": "wt0cERklSu7b",
        "colab": {
          "base_uri": "https://localhost:8080/",
          "height": 105
        },
        "collapsed": true,
        "outputId": "8162f924-ccf6-4283-943c-f36872cbe950"
      },
      "execution_count": null,
      "outputs": [
        {
          "output_type": "execute_result",
          "data": {
            "text/plain": [
              "'\\nPython Modules \\n\\nA module is a Python file that contains related code, such as functions, classes, or variables.\\nIt helps organize code into logical parts.\\n\\nSuppose you have a file named helper.py with some functions:\\nExample helper.py content:\\ndef validate():\\n    print(\"Validate function\")\\n\\nYou can import the whole module using:\\nimport helper\\nUse a function or variable with the module name prefix:\\nhelper.validate()\\n\\nfrom helper import validate\\nNow you can use these functions directly without the module name:\\nvalidate()\\n\\nPython includes many useful built-in modules you can import, such as:\\nimport math        # For mathematical functions like sqrt, sin, etc.\\nimport datetime    # For managing dates and times\\nimport os          # For interacting with the operating system\\nimport logging     # For logging messages for debugging and tracking\\n\\n'"
            ],
            "application/vnd.google.colaboratory.intrinsic+json": {
              "type": "string"
            }
          },
          "metadata": {},
          "execution_count": 3
        }
      ]
    },
    {
      "cell_type": "markdown",
      "source": [
        "# Countdown App"
      ],
      "metadata": {
        "id": "yv_znFVapnYu"
      }
    },
    {
      "cell_type": "code",
      "source": [
        "import datetime\n",
        "user_input=input(\"enter you goal with a deadline separated by colon (ex:Learn English :17.10.2020) \\n\")\n",
        "user_input_list=user_input.split(\":\")\n",
        "goal=user_input_list[0]\n",
        "deadline=user_input_list[1]\n",
        "print(user_input_list)\n",
        "deadline=datetime.datetime.strptime(deadline,\"%d.%m.%Y\")\n",
        "\n",
        "# print how much time remaines for the deadline\n",
        "today_date=datetime.datetime.today()\n",
        "time_till=deadline-today_date\n",
        "print(f'Dear User ! time remainig for your goal : {goal} is {time_till.days} days.')"
      ],
      "metadata": {
        "colab": {
          "base_uri": "https://localhost:8080/"
        },
        "id": "DF-Rp_12p3wX",
        "outputId": "7bd65484-fee0-4008-f14c-1e7ba49d4ddc"
      },
      "execution_count": null,
      "outputs": [
        {
          "output_type": "stream",
          "name": "stdout",
          "text": [
            "enter you goal with a deadline separated by colon (ex:Learn English :17.10.2020) \n",
            "Learn German :12.10.2025\n",
            "['Learn German ', '12.10.2025']\n",
            "Dear User ! time remainig for your goal : Learn German  is 17 days.\n"
          ]
        }
      ]
    },
    {
      "cell_type": "markdown",
      "source": [
        "# 5. ✅ Working with External Tools\n"
      ],
      "metadata": {
        "id": "2YXFhlcbCc68"
      }
    },
    {
      "cell_type": "markdown",
      "source": [
        "* **packages** — collections of modules that form a reusable component\n",
        "* **PyPI** — the Python Package Index, repository of third-party Python packages\n",
        "* **pip** — the package manager used to install packages from PyPI (or elsewhere)\n",
        "* external packages — packages not included in Python by default, you install them\n",
        "* pip install some_package — command to fetch & install a package\n",
        "* pip uninstall some_package — command to remove a package\n",
        "* you can list installed packages with pip list or pip freeze\n"
      ],
      "metadata": {
        "id": "cv1CrQOIy3Ef"
      }
    },
    {
      "cell_type": "code",
      "source": [
        "import openpyxl\n",
        "\n",
        "inv_file = openpyxl.load_workbook(\"inventory.xlsx\")\n",
        "product_list = inv_file[\"Sheet1\"]\n",
        "\n",
        "products_per_supplier = {}\n",
        "total_value_per_supplier = {}\n",
        "products_under_10_inv = {}\n",
        "\n",
        "for product_row in range(2, product_list.max_row + 1):\n",
        "    supplier_name = product_list.cell(product_row, 4).value\n",
        "    inventory = product_list.cell(product_row, 2).value\n",
        "    price = product_list.cell(product_row, 3).value\n",
        "    product_num = product_list.cell(product_row, 1).value\n",
        "    inventory_price = product_list.cell(product_row, 5)\n",
        "\n",
        "    # calculation number of products per supplier\n",
        "    if supplier_name in products_per_supplier:\n",
        "        current_num_products = products_per_supplier.get(supplier_name)\n",
        "        products_per_supplier[supplier_name] = current_num_products + 1\n",
        "    else:\n",
        "        products_per_supplier[supplier_name] = 1\n",
        "\n",
        "    # calculation total value of inventory per supplier\n",
        "    if supplier_name in total_value_per_supplier:\n",
        "        current_total_value = total_value_per_supplier.get(supplier_name)\n",
        "        total_value_per_supplier[supplier_name] = current_total_value + inventory * price\n",
        "    else:\n",
        "        total_value_per_supplier[supplier_name] = inventory * price\n",
        "\n",
        "    # logic products with inventory less than 10\n",
        "    if inventory < 10:\n",
        "        products_under_10_inv[int(product_num)] = int(inventory)\n",
        "\n",
        "    # add value for total inventory price\n",
        "    inventory_price.value = inventory * price\n",
        "\n",
        "\n",
        "print(products_per_supplier)\n",
        "print(total_value_per_supplier)\n",
        "print(products_under_10_inv)\n",
        "\n",
        "inv_file.save(\"inventory_with_total_value.xlsx\")"
      ],
      "metadata": {
        "colab": {
          "base_uri": "https://localhost:8080/"
        },
        "id": "P1qjLncXzZeV",
        "outputId": "387ab04a-3240-47e4-a5c5-2a0db85db921"
      },
      "execution_count": null,
      "outputs": [
        {
          "output_type": "stream",
          "name": "stdout",
          "text": [
            "{'AAA Company': 43, 'BBB Company': 17, 'CCC Company': 14}\n",
            "{'AAA Company': 10969059.95, 'BBB Company': 2375499.47, 'CCC Company': 8114363.62}\n",
            "{25: 7, 30: 6, 74: 2}\n"
          ]
        }
      ]
    },
    {
      "cell_type": "markdown",
      "source": [
        "# 6. ✅ Intermediate Python\n"
      ],
      "metadata": {
        "id": "-DazW1AOCfUn"
      }
    },
    {
      "cell_type": "code",
      "source": [
        "class User:\n",
        "    def __init__(self, user_email, name, password, current_job_title):\n",
        "        self.email = user_email\n",
        "        self.name = name\n",
        "        self.password = password\n",
        "        self.current_job_title = current_job_title\n",
        "\n",
        "    def change_password(self, new_password):\n",
        "        self.password = new_password\n",
        "\n",
        "    def change_job_title(self, new_job_title):\n",
        "        self.current_job_title = new_job_title\n",
        "\n",
        "    def get_user_info(self):\n",
        "        print(f\"User {self.name} currently works as a {self.current_job_title}. You can contact them at {self.email}\")"
      ],
      "metadata": {
        "id": "9fCzVGjW9scy"
      },
      "execution_count": 1,
      "outputs": []
    },
    {
      "cell_type": "code",
      "source": [
        "class Post:\n",
        "    def __init__(self, message, author):\n",
        "        self.message = message\n",
        "        self.author = author\n",
        "\n",
        "    def get_post_info(self):\n",
        "        print(f\"Post: {self.message} written by {self.author}\")\n"
      ],
      "metadata": {
        "id": "Pezi7bLc-hF5"
      },
      "execution_count": 2,
      "outputs": []
    },
    {
      "cell_type": "code",
      "source": [
        "app_user_one = User(\"nn@nn.com\", \"Nana Janashia\", \"pwd1\", \"DevOps Engineer\")\n",
        "app_user_one.get_user_info()\n",
        "\n",
        "app_user_two = User(\"aa@aa.com\", \"James Bond\", \"supersecret\", \"Agent\")\n",
        "app_user_two.get_user_info()\n",
        "\n",
        "new_post_1 = Post(\"on a secret mission today\", app_user_two.name)\n",
        "new_post_1.get_post_info()\n",
        "\n",
        "new_post_2 = Post(\"new project finished\", app_user_one.name)\n",
        "new_post_2.get_post_info()"
      ],
      "metadata": {
        "colab": {
          "base_uri": "https://localhost:8080/"
        },
        "id": "LQUzrcGt-hPk",
        "outputId": "b5bf238b-9dff-46bc-85e8-b23976867138"
      },
      "execution_count": 5,
      "outputs": [
        {
          "output_type": "stream",
          "name": "stdout",
          "text": [
            "User Nana Janashia currently works as a DevOps Engineer. You can contact them at nn@nn.com\n",
            "User James Bond currently works as a Agent. You can contact them at aa@aa.com\n",
            "Post: on a secret mission today written by James Bond\n",
            "Post: new project finished written by Nana Janashia\n"
          ]
        }
      ]
    },
    {
      "cell_type": "markdown",
      "source": [
        "# API request to Git lab"
      ],
      "metadata": {
        "id": "CWLEB8ZQ_wA9"
      }
    },
    {
      "cell_type": "code",
      "source": [
        "import requests\n",
        "response = requests.get(\"https://gitlab.com/api/v4/users/nanuchi/projects\")\n",
        "my_projects = response.json()\n",
        "\n",
        "# print the whole objects list\n",
        "print(my_projects)\n",
        "print(type(my_projects))\n",
        "\n",
        "# print just the names and urls\n",
        "for project in my_projects:\n",
        "    print(f\"Project Name: {project['name']}\\nProject Url: {project['http_url_to_repo']}\\n\")\n",
        "\n"
      ],
      "metadata": {
        "colab": {
          "base_uri": "https://localhost:8080/"
        },
        "id": "PZcgM66YAJVh",
        "outputId": "7ba47d81-e619-4ce7-81e7-45394f72be11"
      },
      "execution_count": 4,
      "outputs": [
        {
          "output_type": "stream",
          "name": "stdout",
          "text": [
            "[{'id': 43918138, 'description': None, 'name': 'python-automation-chatgpt', 'name_with_namespace': 'Nana Janashia / python-automation-chatgpt', 'path': 'python-automation-chatgpt', 'path_with_namespace': 'nanuchi/python-automation-chatgpt', 'created_at': '2023-02-28T15:29:31.119Z', 'default_branch': 'master', 'tag_list': [], 'topics': [], 'ssh_url_to_repo': 'git@gitlab.com:nanuchi/python-automation-chatgpt.git', 'http_url_to_repo': 'https://gitlab.com/nanuchi/python-automation-chatgpt.git', 'web_url': 'https://gitlab.com/nanuchi/python-automation-chatgpt', 'readme_url': 'https://gitlab.com/nanuchi/python-automation-chatgpt/-/blob/master/README.md', 'forks_count': 34, 'avatar_url': None, 'star_count': 13, 'last_activity_at': '2023-08-10T16:55:52.384Z', 'visibility': 'public', 'namespace': {'id': 1677040, 'name': 'Nana Janashia', 'path': 'nanuchi', 'kind': 'user', 'full_path': 'nanuchi', 'parent_id': None, 'avatar_url': 'https://secure.gravatar.com/avatar/5b61108cc6292e725f731a04d8aab84d52ef308ec5b9fbf603359f9cb2c92f24?s=80&d=identicon', 'web_url': 'https://gitlab.com/nanuchi'}}, {'id': 42558567, 'description': None, 'name': 'docker-in-1-hour', 'name_with_namespace': 'Nana Janashia / docker-in-1-hour', 'path': 'docker-in-1-hour', 'path_with_namespace': 'nanuchi/docker-in-1-hour', 'created_at': '2023-01-13T13:30:06.544Z', 'default_branch': 'main', 'tag_list': [], 'topics': [], 'ssh_url_to_repo': 'git@gitlab.com:nanuchi/docker-in-1-hour.git', 'http_url_to_repo': 'https://gitlab.com/nanuchi/docker-in-1-hour.git', 'web_url': 'https://gitlab.com/nanuchi/docker-in-1-hour', 'readme_url': 'https://gitlab.com/nanuchi/docker-in-1-hour/-/blob/main/README.md', 'forks_count': 36, 'avatar_url': None, 'star_count': 15, 'last_activity_at': '2023-01-13T13:30:06.544Z', 'visibility': 'public', 'namespace': {'id': 1677040, 'name': 'Nana Janashia', 'path': 'nanuchi', 'kind': 'user', 'full_path': 'nanuchi', 'parent_id': None, 'avatar_url': 'https://secure.gravatar.com/avatar/5b61108cc6292e725f731a04d8aab84d52ef308ec5b9fbf603359f9cb2c92f24?s=80&d=identicon', 'web_url': 'https://gitlab.com/nanuchi'}}, {'id': 40443037, 'description': None, 'name': 'IT-beginners-course', 'name_with_namespace': 'Nana Janashia / IT-beginners-course', 'path': 'it-beginners-course', 'path_with_namespace': 'nanuchi/it-beginners-course', 'created_at': '2022-10-22T17:01:41.468Z', 'default_branch': 'main', 'tag_list': [], 'topics': [], 'ssh_url_to_repo': 'git@gitlab.com:nanuchi/it-beginners-course.git', 'http_url_to_repo': 'https://gitlab.com/nanuchi/it-beginners-course.git', 'web_url': 'https://gitlab.com/nanuchi/it-beginners-course', 'readme_url': None, 'forks_count': 52, 'avatar_url': None, 'star_count': 30, 'last_activity_at': '2023-06-18T16:44:56.606Z', 'visibility': 'public', 'namespace': {'id': 1677040, 'name': 'Nana Janashia', 'path': 'nanuchi', 'kind': 'user', 'full_path': 'nanuchi', 'parent_id': None, 'avatar_url': 'https://secure.gravatar.com/avatar/5b61108cc6292e725f731a04d8aab84d52ef308ec5b9fbf603359f9cb2c92f24?s=80&d=identicon', 'web_url': 'https://gitlab.com/nanuchi'}}, {'id': 38033031, 'description': '', 'name': 'vue-js-test', 'name_with_namespace': 'Nana Janashia / vue-js-test', 'path': 'vue-js-test', 'path_with_namespace': 'nanuchi/vue-js-test', 'created_at': '2022-07-22T16:51:43.681Z', 'default_branch': 'main', 'tag_list': [], 'topics': [], 'ssh_url_to_repo': 'git@gitlab.com:nanuchi/vue-js-test.git', 'http_url_to_repo': 'https://gitlab.com/nanuchi/vue-js-test.git', 'web_url': 'https://gitlab.com/nanuchi/vue-js-test', 'readme_url': None, 'forks_count': 6, 'avatar_url': None, 'star_count': 0, 'last_activity_at': '2022-07-25T10:09:44.576Z', 'visibility': 'public', 'namespace': {'id': 1677040, 'name': 'Nana Janashia', 'path': 'nanuchi', 'kind': 'user', 'full_path': 'nanuchi', 'parent_id': None, 'avatar_url': 'https://secure.gravatar.com/avatar/5b61108cc6292e725f731a04d8aab84d52ef308ec5b9fbf603359f9cb2c92f24?s=80&d=identicon', 'web_url': 'https://gitlab.com/nanuchi'}}, {'id': 36176367, 'description': '', 'name': 'gitlab-cicd-crash-course', 'name_with_namespace': 'Nana Janashia / gitlab-cicd-crash-course', 'path': 'gitlab-cicd-crash-course', 'path_with_namespace': 'nanuchi/gitlab-cicd-crash-course', 'created_at': '2022-05-15T09:42:30.565Z', 'default_branch': 'main', 'tag_list': [], 'topics': [], 'ssh_url_to_repo': 'git@gitlab.com:nanuchi/gitlab-cicd-crash-course.git', 'http_url_to_repo': 'https://gitlab.com/nanuchi/gitlab-cicd-crash-course.git', 'web_url': 'https://gitlab.com/nanuchi/gitlab-cicd-crash-course', 'readme_url': 'https://gitlab.com/nanuchi/gitlab-cicd-crash-course/-/blob/main/README.md', 'forks_count': 2963, 'avatar_url': None, 'star_count': 167, 'last_activity_at': '2025-09-22T22:58:05.198Z', 'visibility': 'public', 'namespace': {'id': 1677040, 'name': 'Nana Janashia', 'path': 'nanuchi', 'kind': 'user', 'full_path': 'nanuchi', 'parent_id': None, 'avatar_url': 'https://secure.gravatar.com/avatar/5b61108cc6292e725f731a04d8aab84d52ef308ec5b9fbf603359f9cb2c92f24?s=80&d=identicon', 'web_url': 'https://gitlab.com/nanuchi'}}, {'id': 35407644, 'description': '', 'name': 'mymicroservice-cicd', 'name_with_namespace': 'Nana Janashia / mymicroservice-cicd', 'path': 'mymicroservice-cicd', 'path_with_namespace': 'nanuchi/mymicroservice-cicd', 'created_at': '2022-04-16T14:43:59.609Z', 'default_branch': 'main', 'tag_list': [], 'topics': [], 'ssh_url_to_repo': 'git@gitlab.com:nanuchi/mymicroservice-cicd.git', 'http_url_to_repo': 'https://gitlab.com/nanuchi/mymicroservice-cicd.git', 'web_url': 'https://gitlab.com/nanuchi/mymicroservice-cicd', 'readme_url': 'https://gitlab.com/nanuchi/mymicroservice-cicd/-/blob/main/README.md', 'forks_count': 463, 'avatar_url': None, 'star_count': 20, 'last_activity_at': '2025-03-19T07:26:55.432Z', 'visibility': 'public', 'namespace': {'id': 1677040, 'name': 'Nana Janashia', 'path': 'nanuchi', 'kind': 'user', 'full_path': 'nanuchi', 'parent_id': None, 'avatar_url': 'https://secure.gravatar.com/avatar/5b61108cc6292e725f731a04d8aab84d52ef308ec5b9fbf603359f9cb2c92f24?s=80&d=identicon', 'web_url': 'https://gitlab.com/nanuchi'}}, {'id': 34530931, 'description': '', 'name': 'mynodeapp-cicd', 'name_with_namespace': 'Nana Janashia / mynodeapp-cicd', 'path': 'mynodeapp-cicd-project', 'path_with_namespace': 'nanuchi/mynodeapp-cicd-project', 'created_at': '2022-03-16T08:15:48.632Z', 'default_branch': 'main', 'tag_list': [], 'topics': [], 'ssh_url_to_repo': 'git@gitlab.com:nanuchi/mynodeapp-cicd-project.git', 'http_url_to_repo': 'https://gitlab.com/nanuchi/mynodeapp-cicd-project.git', 'web_url': 'https://gitlab.com/nanuchi/mynodeapp-cicd-project', 'readme_url': 'https://gitlab.com/nanuchi/mynodeapp-cicd-project/-/blob/main/README.md', 'forks_count': 2109, 'avatar_url': None, 'star_count': 44, 'last_activity_at': '2025-09-14T11:18:11.448Z', 'visibility': 'public', 'namespace': {'id': 1677040, 'name': 'Nana Janashia', 'path': 'nanuchi', 'kind': 'user', 'full_path': 'nanuchi', 'parent_id': None, 'avatar_url': 'https://secure.gravatar.com/avatar/5b61108cc6292e725f731a04d8aab84d52ef308ec5b9fbf603359f9cb2c92f24?s=80&d=identicon', 'web_url': 'https://gitlab.com/nanuchi'}}, {'id': 31872548, 'description': '', 'name': 'go-full-course-youtube', 'name_with_namespace': 'Nana Janashia / go-full-course-youtube', 'path': 'go-full-course-youtube', 'path_with_namespace': 'nanuchi/go-full-course-youtube', 'created_at': '2021-12-05T19:22:13.936Z', 'default_branch': 'master', 'tag_list': [], 'topics': [], 'ssh_url_to_repo': 'git@gitlab.com:nanuchi/go-full-course-youtube.git', 'http_url_to_repo': 'https://gitlab.com/nanuchi/go-full-course-youtube.git', 'web_url': 'https://gitlab.com/nanuchi/go-full-course-youtube', 'readme_url': None, 'forks_count': 183, 'avatar_url': None, 'star_count': 157, 'last_activity_at': '2025-09-08T13:42:36.404Z', 'visibility': 'public', 'namespace': {'id': 1677040, 'name': 'Nana Janashia', 'path': 'nanuchi', 'kind': 'user', 'full_path': 'nanuchi', 'parent_id': None, 'avatar_url': 'https://secure.gravatar.com/avatar/5b61108cc6292e725f731a04d8aab84d52ef308ec5b9fbf603359f9cb2c92f24?s=80&d=identicon', 'web_url': 'https://gitlab.com/nanuchi'}}, {'id': 30332186, 'description': '', 'name': 'argocd-app-config', 'name_with_namespace': 'Nana Janashia / argocd-app-config', 'path': 'argocd-app-config', 'path_with_namespace': 'nanuchi/argocd-app-config', 'created_at': '2021-10-10T15:36:16.505Z', 'default_branch': 'main', 'tag_list': [], 'topics': [], 'ssh_url_to_repo': 'git@gitlab.com:nanuchi/argocd-app-config.git', 'http_url_to_repo': 'https://gitlab.com/nanuchi/argocd-app-config.git', 'web_url': 'https://gitlab.com/nanuchi/argocd-app-config', 'readme_url': 'https://gitlab.com/nanuchi/argocd-app-config/-/blob/main/README.md', 'forks_count': 867, 'avatar_url': None, 'star_count': 51, 'last_activity_at': '2025-09-16T19:52:25.334Z', 'visibility': 'public', 'namespace': {'id': 1677040, 'name': 'Nana Janashia', 'path': 'nanuchi', 'kind': 'user', 'full_path': 'nanuchi', 'parent_id': None, 'avatar_url': 'https://secure.gravatar.com/avatar/5b61108cc6292e725f731a04d8aab84d52ef308ec5b9fbf603359f9cb2c92f24?s=80&d=identicon', 'web_url': 'https://gitlab.com/nanuchi'}}, {'id': 29842765, 'description': '', 'name': 'K8s-in-1-hour', 'name_with_namespace': 'Nana Janashia / K8s-in-1-hour', 'path': 'k8s-in-1-hour', 'path_with_namespace': 'nanuchi/k8s-in-1-hour', 'created_at': '2021-09-23T12:17:21.436Z', 'default_branch': 'master', 'tag_list': [], 'topics': [], 'ssh_url_to_repo': 'git@gitlab.com:nanuchi/k8s-in-1-hour.git', 'http_url_to_repo': 'https://gitlab.com/nanuchi/k8s-in-1-hour.git', 'web_url': 'https://gitlab.com/nanuchi/k8s-in-1-hour', 'readme_url': 'https://gitlab.com/nanuchi/k8s-in-1-hour/-/blob/master/README.md', 'forks_count': 183, 'avatar_url': None, 'star_count': 95, 'last_activity_at': '2025-01-26T10:31:22.905Z', 'visibility': 'public', 'namespace': {'id': 1677040, 'name': 'Nana Janashia', 'path': 'nanuchi', 'kind': 'user', 'full_path': 'nanuchi', 'parent_id': None, 'avatar_url': 'https://secure.gravatar.com/avatar/5b61108cc6292e725f731a04d8aab84d52ef308ec5b9fbf603359f9cb2c92f24?s=80&d=identicon', 'web_url': 'https://gitlab.com/nanuchi'}}, {'id': 29062164, 'description': '', 'name': 'java-app-efk', 'name_with_namespace': 'Nana Janashia / java-app-efk', 'path': 'java-app-efk', 'path_with_namespace': 'nanuchi/java-app-efk', 'created_at': '2021-08-23T12:26:53.376Z', 'default_branch': 'master', 'tag_list': [], 'topics': [], 'ssh_url_to_repo': 'git@gitlab.com:nanuchi/java-app-efk.git', 'http_url_to_repo': 'https://gitlab.com/nanuchi/java-app-efk.git', 'web_url': 'https://gitlab.com/nanuchi/java-app-efk', 'readme_url': 'https://gitlab.com/nanuchi/java-app-efk/-/blob/master/README.md', 'forks_count': 37, 'avatar_url': None, 'star_count': 0, 'last_activity_at': '2022-08-12T09:23:12.210Z', 'visibility': 'public', 'namespace': {'id': 1677040, 'name': 'Nana Janashia', 'path': 'nanuchi', 'kind': 'user', 'full_path': 'nanuchi', 'parent_id': None, 'avatar_url': 'https://secure.gravatar.com/avatar/5b61108cc6292e725f731a04d8aab84d52ef308ec5b9fbf603359f9cb2c92f24?s=80&d=identicon', 'web_url': 'https://gitlab.com/nanuchi'}}, {'id': 27480211, 'description': '', 'name': 'online-shop-microservices-deployment', 'name_with_namespace': 'Nana Janashia / online-shop-microservices-deployment', 'path': 'online-shop-microservices-deployment', 'path_with_namespace': 'nanuchi/online-shop-microservices-deployment', 'created_at': '2021-06-16T09:28:09.597Z', 'default_branch': 'master', 'tag_list': [], 'topics': [], 'ssh_url_to_repo': 'git@gitlab.com:nanuchi/online-shop-microservices-deployment.git', 'http_url_to_repo': 'https://gitlab.com/nanuchi/online-shop-microservices-deployment.git', 'web_url': 'https://gitlab.com/nanuchi/online-shop-microservices-deployment', 'readme_url': None, 'forks_count': 98, 'avatar_url': None, 'star_count': 8, 'last_activity_at': '2021-07-07T11:32:18.075Z', 'visibility': 'public', 'namespace': {'id': 1677040, 'name': 'Nana Janashia', 'path': 'nanuchi', 'kind': 'user', 'full_path': 'nanuchi', 'parent_id': None, 'avatar_url': 'https://secure.gravatar.com/avatar/5b61108cc6292e725f731a04d8aab84d52ef308ec5b9fbf603359f9cb2c92f24?s=80&d=identicon', 'web_url': 'https://gitlab.com/nanuchi'}}, {'id': 25298102, 'description': '', 'name': 'devops-tool-of-month', 'name_with_namespace': 'Nana Janashia / devops-tool-of-month', 'path': 'devops-tool-of-month', 'path_with_namespace': 'nanuchi/devops-tool-of-month', 'created_at': '2021-03-20T16:08:04.359Z', 'default_branch': 'master', 'tag_list': [], 'topics': [], 'ssh_url_to_repo': 'git@gitlab.com:nanuchi/devops-tool-of-month.git', 'http_url_to_repo': 'https://gitlab.com/nanuchi/devops-tool-of-month.git', 'web_url': 'https://gitlab.com/nanuchi/devops-tool-of-month', 'readme_url': 'https://gitlab.com/nanuchi/devops-tool-of-month/-/blob/master/README.md', 'forks_count': 18, 'avatar_url': None, 'star_count': 1, 'last_activity_at': '2021-04-29T08:57:17.851Z', 'visibility': 'public', 'namespace': {'id': 1677040, 'name': 'Nana Janashia', 'path': 'nanuchi', 'kind': 'user', 'full_path': 'nanuchi', 'parent_id': None, 'avatar_url': 'https://secure.gravatar.com/avatar/5b61108cc6292e725f731a04d8aab84d52ef308ec5b9fbf603359f9cb2c92f24?s=80&d=identicon', 'web_url': 'https://gitlab.com/nanuchi'}}, {'id': 24683586, 'description': '', 'name': 'python-automation', 'name_with_namespace': 'Nana Janashia / python-automation', 'path': 'python-automation', 'path_with_namespace': 'nanuchi/python-automation', 'created_at': '2021-02-25T07:37:55.645Z', 'default_branch': 'master', 'tag_list': [], 'topics': [], 'ssh_url_to_repo': 'git@gitlab.com:nanuchi/python-automation.git', 'http_url_to_repo': 'https://gitlab.com/nanuchi/python-automation.git', 'web_url': 'https://gitlab.com/nanuchi/python-automation', 'readme_url': None, 'forks_count': 56, 'avatar_url': None, 'star_count': 4, 'last_activity_at': '2022-01-21T16:38:00.337Z', 'visibility': 'public', 'namespace': {'id': 1677040, 'name': 'Nana Janashia', 'path': 'nanuchi', 'kind': 'user', 'full_path': 'nanuchi', 'parent_id': None, 'avatar_url': 'https://secure.gravatar.com/avatar/5b61108cc6292e725f731a04d8aab84d52ef308ec5b9fbf603359f9cb2c92f24?s=80&d=identicon', 'web_url': 'https://gitlab.com/nanuchi'}}, {'id': 24254492, 'description': '', 'name': 'python-programming', 'name_with_namespace': 'Nana Janashia / python-programming', 'path': 'python-programming', 'path_with_namespace': 'nanuchi/python-programming', 'created_at': '2021-02-08T14:01:41.572Z', 'default_branch': 'master', 'tag_list': [], 'topics': [], 'ssh_url_to_repo': 'git@gitlab.com:nanuchi/python-programming.git', 'http_url_to_repo': 'https://gitlab.com/nanuchi/python-programming.git', 'web_url': 'https://gitlab.com/nanuchi/python-programming', 'readme_url': 'https://gitlab.com/nanuchi/python-programming/-/blob/master/README.md', 'forks_count': 149, 'avatar_url': None, 'star_count': 61, 'last_activity_at': '2022-01-18T12:17:27.217Z', 'visibility': 'public', 'namespace': {'id': 1677040, 'name': 'Nana Janashia', 'path': 'nanuchi', 'kind': 'user', 'full_path': 'nanuchi', 'parent_id': None, 'avatar_url': 'https://secure.gravatar.com/avatar/5b61108cc6292e725f731a04d8aab84d52ef308ec5b9fbf603359f9cb2c92f24?s=80&d=identicon', 'web_url': 'https://gitlab.com/nanuchi'}}, {'id': 23535002, 'description': '', 'name': 'Java-App-DTOM', 'name_with_namespace': 'Nana Janashia / Java-App-DTOM', 'path': 'java-app-dtom', 'path_with_namespace': 'nanuchi/java-app-dtom', 'created_at': '2021-01-08T10:04:44.430Z', 'default_branch': 'master', 'tag_list': [], 'topics': [], 'ssh_url_to_repo': 'git@gitlab.com:nanuchi/java-app-dtom.git', 'http_url_to_repo': 'https://gitlab.com/nanuchi/java-app-dtom.git', 'web_url': 'https://gitlab.com/nanuchi/java-app-dtom', 'readme_url': None, 'forks_count': 15, 'avatar_url': None, 'star_count': 0, 'last_activity_at': '2021-01-17T12:21:57.193Z', 'visibility': 'public', 'namespace': {'id': 1677040, 'name': 'Nana Janashia', 'path': 'nanuchi', 'kind': 'user', 'full_path': 'nanuchi', 'parent_id': None, 'avatar_url': 'https://secure.gravatar.com/avatar/5b61108cc6292e725f731a04d8aab84d52ef308ec5b9fbf603359f9cb2c92f24?s=80&d=identicon', 'web_url': 'https://gitlab.com/nanuchi'}}, {'id': 23431283, 'description': '', 'name': 'bootcamp-kubernetes', 'name_with_namespace': 'Nana Janashia / bootcamp-kubernetes', 'path': 'bootcamp-kubernetes', 'path_with_namespace': 'nanuchi/bootcamp-kubernetes', 'created_at': '2021-01-03T16:45:15.286Z', 'default_branch': 'master', 'tag_list': [], 'topics': [], 'ssh_url_to_repo': 'git@gitlab.com:nanuchi/bootcamp-kubernetes.git', 'http_url_to_repo': 'https://gitlab.com/nanuchi/bootcamp-kubernetes.git', 'web_url': 'https://gitlab.com/nanuchi/bootcamp-kubernetes', 'readme_url': None, 'forks_count': 134, 'avatar_url': None, 'star_count': 15, 'last_activity_at': '2024-05-08T20:14:25.618Z', 'visibility': 'public', 'namespace': {'id': 1677040, 'name': 'Nana Janashia', 'path': 'nanuchi', 'kind': 'user', 'full_path': 'nanuchi', 'parent_id': None, 'avatar_url': 'https://secure.gravatar.com/avatar/5b61108cc6292e725f731a04d8aab84d52ef308ec5b9fbf603359f9cb2c92f24?s=80&d=identicon', 'web_url': 'https://gitlab.com/nanuchi'}}, {'id': 23383112, 'description': '', 'name': 'developing-with-docker', 'name_with_namespace': 'Nana Janashia / developing-with-docker', 'path': 'developing-with-docker', 'path_with_namespace': 'nanuchi/developing-with-docker', 'created_at': '2020-12-30T16:17:46.049Z', 'default_branch': 'master', 'tag_list': [], 'topics': [], 'ssh_url_to_repo': 'git@gitlab.com:nanuchi/developing-with-docker.git', 'http_url_to_repo': 'https://gitlab.com/nanuchi/developing-with-docker.git', 'web_url': 'https://gitlab.com/nanuchi/developing-with-docker', 'readme_url': 'https://gitlab.com/nanuchi/developing-with-docker/-/blob/master/README.md', 'forks_count': 216, 'avatar_url': None, 'star_count': 26, 'last_activity_at': '2024-06-26T14:06:51.553Z', 'visibility': 'public', 'namespace': {'id': 1677040, 'name': 'Nana Janashia', 'path': 'nanuchi', 'kind': 'user', 'full_path': 'nanuchi', 'parent_id': None, 'avatar_url': 'https://secure.gravatar.com/avatar/5b61108cc6292e725f731a04d8aab84d52ef308ec5b9fbf603359f9cb2c92f24?s=80&d=identicon', 'web_url': 'https://gitlab.com/nanuchi'}}, {'id': 23073674, 'description': '', 'name': 'terraform-learn', 'name_with_namespace': 'Nana Janashia / terraform-learn', 'path': 'terraform-learn', 'path_with_namespace': 'nanuchi/terraform-learn', 'created_at': '2020-12-13T09:26:49.416Z', 'default_branch': 'master', 'tag_list': [], 'topics': [], 'ssh_url_to_repo': 'git@gitlab.com:nanuchi/terraform-learn.git', 'http_url_to_repo': 'https://gitlab.com/nanuchi/terraform-learn.git', 'web_url': 'https://gitlab.com/nanuchi/terraform-learn', 'readme_url': 'https://gitlab.com/nanuchi/terraform-learn/-/blob/master/README.md', 'forks_count': 128, 'avatar_url': None, 'star_count': 9, 'last_activity_at': '2022-12-02T13:29:48.231Z', 'visibility': 'public', 'namespace': {'id': 1677040, 'name': 'Nana Janashia', 'path': 'nanuchi', 'kind': 'user', 'full_path': 'nanuchi', 'parent_id': None, 'avatar_url': 'https://secure.gravatar.com/avatar/5b61108cc6292e725f731a04d8aab84d52ef308ec5b9fbf603359f9cb2c92f24?s=80&d=identicon', 'web_url': 'https://gitlab.com/nanuchi'}}, {'id': 22311144, 'description': '', 'name': 'jenkins-shared-library', 'name_with_namespace': 'Nana Janashia / jenkins-shared-library', 'path': 'jenkins-shared-library', 'path_with_namespace': 'nanuchi/jenkins-shared-library', 'created_at': '2020-11-08T14:28:45.791Z', 'default_branch': 'master', 'tag_list': [], 'topics': [], 'ssh_url_to_repo': 'git@gitlab.com:nanuchi/jenkins-shared-library.git', 'http_url_to_repo': 'https://gitlab.com/nanuchi/jenkins-shared-library.git', 'web_url': 'https://gitlab.com/nanuchi/jenkins-shared-library', 'readme_url': None, 'forks_count': 168, 'avatar_url': None, 'star_count': 2, 'last_activity_at': '2023-11-28T12:44:06.200Z', 'visibility': 'public', 'namespace': {'id': 1677040, 'name': 'Nana Janashia', 'path': 'nanuchi', 'kind': 'user', 'full_path': 'nanuchi', 'parent_id': None, 'avatar_url': 'https://secure.gravatar.com/avatar/5b61108cc6292e725f731a04d8aab84d52ef308ec5b9fbf603359f9cb2c92f24?s=80&d=identicon', 'web_url': 'https://gitlab.com/nanuchi'}}]\n",
            "<class 'list'>\n",
            "Project Name: python-automation-chatgpt\n",
            "Project Url: https://gitlab.com/nanuchi/python-automation-chatgpt.git\n",
            "\n",
            "Project Name: docker-in-1-hour\n",
            "Project Url: https://gitlab.com/nanuchi/docker-in-1-hour.git\n",
            "\n",
            "Project Name: IT-beginners-course\n",
            "Project Url: https://gitlab.com/nanuchi/it-beginners-course.git\n",
            "\n",
            "Project Name: vue-js-test\n",
            "Project Url: https://gitlab.com/nanuchi/vue-js-test.git\n",
            "\n",
            "Project Name: gitlab-cicd-crash-course\n",
            "Project Url: https://gitlab.com/nanuchi/gitlab-cicd-crash-course.git\n",
            "\n",
            "Project Name: mymicroservice-cicd\n",
            "Project Url: https://gitlab.com/nanuchi/mymicroservice-cicd.git\n",
            "\n",
            "Project Name: mynodeapp-cicd\n",
            "Project Url: https://gitlab.com/nanuchi/mynodeapp-cicd-project.git\n",
            "\n",
            "Project Name: go-full-course-youtube\n",
            "Project Url: https://gitlab.com/nanuchi/go-full-course-youtube.git\n",
            "\n",
            "Project Name: argocd-app-config\n",
            "Project Url: https://gitlab.com/nanuchi/argocd-app-config.git\n",
            "\n",
            "Project Name: K8s-in-1-hour\n",
            "Project Url: https://gitlab.com/nanuchi/k8s-in-1-hour.git\n",
            "\n",
            "Project Name: java-app-efk\n",
            "Project Url: https://gitlab.com/nanuchi/java-app-efk.git\n",
            "\n",
            "Project Name: online-shop-microservices-deployment\n",
            "Project Url: https://gitlab.com/nanuchi/online-shop-microservices-deployment.git\n",
            "\n",
            "Project Name: devops-tool-of-month\n",
            "Project Url: https://gitlab.com/nanuchi/devops-tool-of-month.git\n",
            "\n",
            "Project Name: python-automation\n",
            "Project Url: https://gitlab.com/nanuchi/python-automation.git\n",
            "\n",
            "Project Name: python-programming\n",
            "Project Url: https://gitlab.com/nanuchi/python-programming.git\n",
            "\n",
            "Project Name: Java-App-DTOM\n",
            "Project Url: https://gitlab.com/nanuchi/java-app-dtom.git\n",
            "\n",
            "Project Name: bootcamp-kubernetes\n",
            "Project Url: https://gitlab.com/nanuchi/bootcamp-kubernetes.git\n",
            "\n",
            "Project Name: developing-with-docker\n",
            "Project Url: https://gitlab.com/nanuchi/developing-with-docker.git\n",
            "\n",
            "Project Name: terraform-learn\n",
            "Project Url: https://gitlab.com/nanuchi/terraform-learn.git\n",
            "\n",
            "Project Name: jenkins-shared-library\n",
            "Project Url: https://gitlab.com/nanuchi/jenkins-shared-library.git\n",
            "\n"
          ]
        }
      ]
    }
  ]
}